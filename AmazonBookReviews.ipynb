{
  "nbformat": 4,
  "nbformat_minor": 0,
  "metadata": {
    "colab": {
      "name": "Untitled0.ipynb",
      "provenance": [],
      "collapsed_sections": [],
      "include_colab_link": true
    },
    "kernelspec": {
      "name": "python3",
      "display_name": "Python 3"
    }
  },
  "cells": [
    {
      "cell_type": "markdown",
      "metadata": {
        "id": "view-in-github",
        "colab_type": "text"
      },
      "source": [
        "<a href=\"https://colab.research.google.com/github/mariyaperchyk/codepubHPI/blob/master/AmazonBookReviews.ipynb\" target=\"_parent\"><img src=\"https://colab.research.google.com/assets/colab-badge.svg\" alt=\"Open In Colab\"/></a>"
      ]
    },
    {
      "cell_type": "markdown",
      "metadata": {
        "id": "9VnjoUwB_GU0",
        "colab_type": "text"
      },
      "source": [
        "## Lets prepare the data and our runtime environment\n",
        "\n",
        "1. Install fastText via pip\n",
        "2. Download our Amazon Review data\n",
        "\n",
        "   Our dataset consists of more than 1.5M book reviews\n",
        "3. Unzip it"
      ]
    },
    {
      "cell_type": "code",
      "metadata": {
        "id": "FgxkV4m8dzjF",
        "colab_type": "code",
        "outputId": "3662415b-b351-4462-a7a7-4d778c2a8475",
        "colab": {
          "base_uri": "https://localhost:8080/",
          "height": 408
        }
      },
      "source": [
        "!pip install fasttext\n",
        "!wget -O amazon_review_data.zip https://owncloud.hpi.de/s/173VppQ6LPxqM7B/download\n",
        "!unzip amazon_review_data.zip\n",
        "!ls -lah"
      ],
      "execution_count": 11,
      "outputs": [
        {
          "output_type": "stream",
          "text": [
            "Requirement already satisfied: fasttext in /usr/local/lib/python3.6/dist-packages (0.9.1)\n",
            "Requirement already satisfied: numpy in /usr/local/lib/python3.6/dist-packages (from fasttext) (1.17.4)\n",
            "Requirement already satisfied: setuptools>=0.7.0 in /usr/local/lib/python3.6/dist-packages (from fasttext) (41.6.0)\n",
            "Requirement already satisfied: pybind11>=2.2 in /usr/local/lib/python3.6/dist-packages (from fasttext) (2.4.3)\n",
            "--2019-11-27 23:34:46--  https://owncloud.hpi.de/s/173VppQ6LPxqM7B/download\n",
            "Resolving owncloud.hpi.de (owncloud.hpi.de)... 141.89.226.235\n",
            "Connecting to owncloud.hpi.de (owncloud.hpi.de)|141.89.226.235|:443... connected.\n",
            "HTTP request sent, awaiting response... 200 OK\n",
            "Length: 357272653 (341M) [application/zip]\n",
            "Saving to: ‘amazon_review_data.zip’\n",
            "\n",
            "amazon_review_data. 100%[===================>] 340.72M  23.8MB/s    in 15s     \n",
            "\n",
            "2019-11-27 23:35:03 (22.6 MB/s) - ‘amazon_review_data.zip’ saved [357272653/357272653]\n",
            "\n",
            "Archive:  amazon_review_data.zip\n",
            "replace amazon_book_review_balanced_full.csv? [y]es, [n]o, [A]ll, [N]one, [r]ename: total 1.3G\n",
            "drwxr-xr-x 1 root root 4.0K Nov 27 22:34 .\n",
            "drwxr-xr-x 1 root root 4.0K Nov 27 22:30 ..\n",
            "-rw-r--r-- 1 root root 927M Nov 24 16:27 amazon_book_review_balanced_full.csv\n",
            "-rw-r--r-- 1 root root 341M Nov 27 23:35 amazon_review_data.zip\n",
            "drwxr-xr-x 1 root root 4.0K Nov 21 16:30 .config\n",
            "drwxr-xr-x 1 root root 4.0K Nov 21 16:30 sample_data\n"
          ],
          "name": "stdout"
        }
      ]
    },
    {
      "cell_type": "markdown",
      "metadata": {
        "id": "XLYk5tCcAkFL",
        "colab_type": "text"
      },
      "source": [
        "## Lets take a look into the data\n",
        "\n",
        "We will work with **pandas** and **sklearn** python libraries for data analysis. \n",
        "The dataset has three columns, *star_rating*, *review_headline* and *review_body*. \n",
        "* *star_rating* - Number of stars in the review\n",
        "* *review_headline* - Title of the review\n",
        "* *review_body* - Actual review text"
      ]
    },
    {
      "cell_type": "code",
      "metadata": {
        "id": "sUvcPYt6d9LT",
        "colab_type": "code",
        "outputId": "93ac5c86-0ea9-475c-f962-cf2953f1b830",
        "colab": {
          "base_uri": "https://localhost:8080/",
          "height": 419
        }
      },
      "source": [
        "import pandas as pd\n",
        "from sklearn.model_selection import train_test_split\n",
        "import csv\n",
        "\n",
        "full_data = pd.read_csv('amazon_book_review_balanced_full.csv', dtype=str)\n",
        "full_data"
      ],
      "execution_count": 12,
      "outputs": [
        {
          "output_type": "execute_result",
          "data": {
            "text/html": [
              "<div>\n",
              "<style scoped>\n",
              "    .dataframe tbody tr th:only-of-type {\n",
              "        vertical-align: middle;\n",
              "    }\n",
              "\n",
              "    .dataframe tbody tr th {\n",
              "        vertical-align: top;\n",
              "    }\n",
              "\n",
              "    .dataframe thead th {\n",
              "        text-align: right;\n",
              "    }\n",
              "</style>\n",
              "<table border=\"1\" class=\"dataframe\">\n",
              "  <thead>\n",
              "    <tr style=\"text-align: right;\">\n",
              "      <th></th>\n",
              "      <th>star_rating</th>\n",
              "      <th>review_headline</th>\n",
              "      <th>review_body</th>\n",
              "    </tr>\n",
              "  </thead>\n",
              "  <tbody>\n",
              "    <tr>\n",
              "      <th>0</th>\n",
              "      <td>1</td>\n",
              "      <td>Completely Terrible</td>\n",
              "      <td>Fortunately, I read this for free via Amazon's...</td>\n",
              "    </tr>\n",
              "    <tr>\n",
              "      <th>1</th>\n",
              "      <td>1</td>\n",
              "      <td>This is an essay, not a short story, barely 17...</td>\n",
              "      <td>Unfortunately, I didn't realize what I was buy...</td>\n",
              "    </tr>\n",
              "    <tr>\n",
              "      <th>2</th>\n",
              "      <td>1</td>\n",
              "      <td>no.</td>\n",
              "      <td>zero stars if I could. I received the wrong book.</td>\n",
              "    </tr>\n",
              "    <tr>\n",
              "      <th>3</th>\n",
              "      <td>1</td>\n",
              "      <td>What an underdeveloped, unoriginal waste of time</td>\n",
              "      <td>First off, I have no idea who is writing the 5...</td>\n",
              "    </tr>\n",
              "    <tr>\n",
              "      <th>4</th>\n",
              "      <td>1</td>\n",
              "      <td>Caution: Cahn's theory is contradicted by empi...</td>\n",
              "      <td>I am a lecturer in empirical research methods ...</td>\n",
              "    </tr>\n",
              "    <tr>\n",
              "      <th>...</th>\n",
              "      <td>...</td>\n",
              "      <td>...</td>\n",
              "      <td>...</td>\n",
              "    </tr>\n",
              "    <tr>\n",
              "      <th>1686745</th>\n",
              "      <td>5</td>\n",
              "      <td>I enjoyed this book very much</td>\n",
              "      <td>I enjoyed this book very much.  Once I got to ...</td>\n",
              "    </tr>\n",
              "    <tr>\n",
              "      <th>1686746</th>\n",
              "      <td>5</td>\n",
              "      <td>we lost hours of sleep because we could not pu...</td>\n",
              "      <td>My wife and I give UNHINGED five stars!!!  I w...</td>\n",
              "    </tr>\n",
              "    <tr>\n",
              "      <th>1686747</th>\n",
              "      <td>5</td>\n",
              "      <td>Five Stars</td>\n",
              "      <td>Excellent</td>\n",
              "    </tr>\n",
              "    <tr>\n",
              "      <th>1686748</th>\n",
              "      <td>5</td>\n",
              "      <td>Five Stars</td>\n",
              "      <td>Really enjoyed this. Well told.</td>\n",
              "    </tr>\n",
              "    <tr>\n",
              "      <th>1686749</th>\n",
              "      <td>5</td>\n",
              "      <td>The time that we all spent waiting for the rel...</td>\n",
              "      <td>The time that we all spent waiting for the rel...</td>\n",
              "    </tr>\n",
              "  </tbody>\n",
              "</table>\n",
              "<p>1686750 rows × 3 columns</p>\n",
              "</div>"
            ],
            "text/plain": [
              "        star_rating  ...                                        review_body\n",
              "0                 1  ...  Fortunately, I read this for free via Amazon's...\n",
              "1                 1  ...  Unfortunately, I didn't realize what I was buy...\n",
              "2                 1  ...  zero stars if I could. I received the wrong book.\n",
              "3                 1  ...  First off, I have no idea who is writing the 5...\n",
              "4                 1  ...  I am a lecturer in empirical research methods ...\n",
              "...             ...  ...                                                ...\n",
              "1686745           5  ...  I enjoyed this book very much.  Once I got to ...\n",
              "1686746           5  ...  My wife and I give UNHINGED five stars!!!  I w...\n",
              "1686747           5  ...                                          Excellent\n",
              "1686748           5  ...                    Really enjoyed this. Well told.\n",
              "1686749           5  ...  The time that we all spent waiting for the rel...\n",
              "\n",
              "[1686750 rows x 3 columns]"
            ]
          },
          "metadata": {
            "tags": []
          },
          "execution_count": 12
        }
      ]
    },
    {
      "cell_type": "code",
      "metadata": {
        "id": "nUo-n-W1Ai6g",
        "colab_type": "code",
        "outputId": "a65ed0a9-465e-4bd3-fd6f-7295324640b4",
        "colab": {
          "base_uri": "https://localhost:8080/",
          "height": 119
        }
      },
      "source": [
        "full_data.star_rating.value_counts()"
      ],
      "execution_count": 13,
      "outputs": [
        {
          "output_type": "execute_result",
          "data": {
            "text/plain": [
              "1    337350\n",
              "2    337350\n",
              "4    337350\n",
              "5    337350\n",
              "3    337350\n",
              "Name: star_rating, dtype: int64"
            ]
          },
          "metadata": {
            "tags": []
          },
          "execution_count": 13
        }
      ]
    },
    {
      "cell_type": "markdown",
      "metadata": {
        "id": "O-ZEWY0lD3T6",
        "colab_type": "text"
      },
      "source": [
        "## Next step: Prepare the data for classification\n",
        "\n",
        "1. Remove all reviews with 3 stars, since 3 star reviews are neither positive nor negative. \n",
        "2.  Add an additional column *sentiment*, which will specify if the review is positive or negative. *Positive* reviews have 4 or 5 stars, and *negative* reviews have 1 or 2 stars. \n",
        "3. To make our initial process faster and execution times shorter, we will consider only **30%** of all our book reviews. \n",
        "4. Split the dataset into training and test data."
      ]
    },
    {
      "cell_type": "code",
      "metadata": {
        "id": "SE7lVmiKGdVi",
        "colab_type": "code",
        "outputId": "1b1011b5-5f7e-4e36-de15-cb88bfc92189",
        "colab": {
          "base_uri": "https://localhost:8080/",
          "height": 419
        }
      },
      "source": [
        "sentimentDataset = full_data.loc[full_data.star_rating != '3',] \n",
        "sentimentColumn = ['__label__positive' if (rating == '4' or rating == '5') else '__label__negative' for rating in sentimentDataset['star_rating']]\n",
        "sentimentDataset = sentimentDataset.assign(sentiment=sentimentColumn)\n",
        "sentimentDataset\n"
      ],
      "execution_count": 14,
      "outputs": [
        {
          "output_type": "execute_result",
          "data": {
            "text/html": [
              "<div>\n",
              "<style scoped>\n",
              "    .dataframe tbody tr th:only-of-type {\n",
              "        vertical-align: middle;\n",
              "    }\n",
              "\n",
              "    .dataframe tbody tr th {\n",
              "        vertical-align: top;\n",
              "    }\n",
              "\n",
              "    .dataframe thead th {\n",
              "        text-align: right;\n",
              "    }\n",
              "</style>\n",
              "<table border=\"1\" class=\"dataframe\">\n",
              "  <thead>\n",
              "    <tr style=\"text-align: right;\">\n",
              "      <th></th>\n",
              "      <th>star_rating</th>\n",
              "      <th>review_headline</th>\n",
              "      <th>review_body</th>\n",
              "      <th>sentiment</th>\n",
              "    </tr>\n",
              "  </thead>\n",
              "  <tbody>\n",
              "    <tr>\n",
              "      <th>0</th>\n",
              "      <td>1</td>\n",
              "      <td>Completely Terrible</td>\n",
              "      <td>Fortunately, I read this for free via Amazon's...</td>\n",
              "      <td>__label__negative</td>\n",
              "    </tr>\n",
              "    <tr>\n",
              "      <th>1</th>\n",
              "      <td>1</td>\n",
              "      <td>This is an essay, not a short story, barely 17...</td>\n",
              "      <td>Unfortunately, I didn't realize what I was buy...</td>\n",
              "      <td>__label__negative</td>\n",
              "    </tr>\n",
              "    <tr>\n",
              "      <th>2</th>\n",
              "      <td>1</td>\n",
              "      <td>no.</td>\n",
              "      <td>zero stars if I could. I received the wrong book.</td>\n",
              "      <td>__label__negative</td>\n",
              "    </tr>\n",
              "    <tr>\n",
              "      <th>3</th>\n",
              "      <td>1</td>\n",
              "      <td>What an underdeveloped, unoriginal waste of time</td>\n",
              "      <td>First off, I have no idea who is writing the 5...</td>\n",
              "      <td>__label__negative</td>\n",
              "    </tr>\n",
              "    <tr>\n",
              "      <th>4</th>\n",
              "      <td>1</td>\n",
              "      <td>Caution: Cahn's theory is contradicted by empi...</td>\n",
              "      <td>I am a lecturer in empirical research methods ...</td>\n",
              "      <td>__label__negative</td>\n",
              "    </tr>\n",
              "    <tr>\n",
              "      <th>...</th>\n",
              "      <td>...</td>\n",
              "      <td>...</td>\n",
              "      <td>...</td>\n",
              "      <td>...</td>\n",
              "    </tr>\n",
              "    <tr>\n",
              "      <th>1686745</th>\n",
              "      <td>5</td>\n",
              "      <td>I enjoyed this book very much</td>\n",
              "      <td>I enjoyed this book very much.  Once I got to ...</td>\n",
              "      <td>__label__positive</td>\n",
              "    </tr>\n",
              "    <tr>\n",
              "      <th>1686746</th>\n",
              "      <td>5</td>\n",
              "      <td>we lost hours of sleep because we could not pu...</td>\n",
              "      <td>My wife and I give UNHINGED five stars!!!  I w...</td>\n",
              "      <td>__label__positive</td>\n",
              "    </tr>\n",
              "    <tr>\n",
              "      <th>1686747</th>\n",
              "      <td>5</td>\n",
              "      <td>Five Stars</td>\n",
              "      <td>Excellent</td>\n",
              "      <td>__label__positive</td>\n",
              "    </tr>\n",
              "    <tr>\n",
              "      <th>1686748</th>\n",
              "      <td>5</td>\n",
              "      <td>Five Stars</td>\n",
              "      <td>Really enjoyed this. Well told.</td>\n",
              "      <td>__label__positive</td>\n",
              "    </tr>\n",
              "    <tr>\n",
              "      <th>1686749</th>\n",
              "      <td>5</td>\n",
              "      <td>The time that we all spent waiting for the rel...</td>\n",
              "      <td>The time that we all spent waiting for the rel...</td>\n",
              "      <td>__label__positive</td>\n",
              "    </tr>\n",
              "  </tbody>\n",
              "</table>\n",
              "<p>1349400 rows × 4 columns</p>\n",
              "</div>"
            ],
            "text/plain": [
              "        star_rating  ...          sentiment\n",
              "0                 1  ...  __label__negative\n",
              "1                 1  ...  __label__negative\n",
              "2                 1  ...  __label__negative\n",
              "3                 1  ...  __label__negative\n",
              "4                 1  ...  __label__negative\n",
              "...             ...  ...                ...\n",
              "1686745           5  ...  __label__positive\n",
              "1686746           5  ...  __label__positive\n",
              "1686747           5  ...  __label__positive\n",
              "1686748           5  ...  __label__positive\n",
              "1686749           5  ...  __label__positive\n",
              "\n",
              "[1349400 rows x 4 columns]"
            ]
          },
          "metadata": {
            "tags": []
          },
          "execution_count": 14
        }
      ]
    },
    {
      "cell_type": "code",
      "metadata": {
        "id": "PuJE0wAZJf5g",
        "colab_type": "code",
        "colab": {}
      },
      "source": [
        "sentimentDataset = sentimentDataset.sample(frac=0.2)\n",
        "trainBinary, testBinary = train_test_split(sentimentDataset, test_size=0.2)"
      ],
      "execution_count": 0,
      "outputs": []
    },
    {
      "cell_type": "markdown",
      "metadata": {
        "id": "zeulTQ2RJi-_",
        "colab_type": "text"
      },
      "source": [
        "# Last preparation step\n",
        "We need to combine sentiment column and review body into one. Then, we write it to a file. "
      ]
    },
    {
      "cell_type": "code",
      "metadata": {
        "id": "BEfbf4UCMMFL",
        "colab_type": "code",
        "colab": {}
      },
      "source": [
        "train_dataset = trainBinary.sentiment + ' ' + trainBinary.review_body\n",
        "train_dataset.to_csv('train_data.csv', index=False, quoting=csv.QUOTE_MINIMAL, header=False, sep='\\t')"
      ],
      "execution_count": 0,
      "outputs": []
    },
    {
      "cell_type": "markdown",
      "metadata": {
        "id": "lrhXyhwFGOki",
        "colab_type": "text"
      },
      "source": [
        "## Its time for fastText!\n",
        "` train_supervised` will train a supervised model and return a model object. `input` must be a filepath. The input text does not need to be tokenized as per the tokenize function, but it must be preprocessed and encoded as UTF-8. "
      ]
    },
    {
      "cell_type": "code",
      "metadata": {
        "id": "r842wCMyBP4g",
        "colab_type": "code",
        "colab": {}
      },
      "source": [
        "import fasttext\n",
        "model = fasttext.train_supervised(input='train_data.csv')"
      ],
      "execution_count": 0,
      "outputs": []
    },
    {
      "cell_type": "code",
      "metadata": {
        "id": "pctMSNhVA5Mq",
        "colab_type": "code",
        "outputId": "15dc3650-185b-4b77-f204-a77c91a2b986",
        "colab": {
          "base_uri": "https://localhost:8080/",
          "height": 34
        }
      },
      "source": [
        "model.predict(\"This is a great book, I really enjoyed reading it\")"
      ],
      "execution_count": 44,
      "outputs": [
        {
          "output_type": "execute_result",
          "data": {
            "text/plain": [
              "(('__label__positive',), array([0.9999603]))"
            ]
          },
          "metadata": {
            "tags": []
          },
          "execution_count": 44
        }
      ]
    },
    {
      "cell_type": "code",
      "metadata": {
        "id": "nVxZ2qffUy72",
        "colab_type": "code",
        "colab": {
          "base_uri": "https://localhost:8080/",
          "height": 34
        },
        "outputId": "a3adea7b-d387-4403-9427-09482c54dae7"
      },
      "source": [
        "model.predict(\"This is a aweful book, I  was bored\")"
      ],
      "execution_count": 45,
      "outputs": [
        {
          "output_type": "execute_result",
          "data": {
            "text/plain": [
              "(('__label__negative',), array([0.98591971]))"
            ]
          },
          "metadata": {
            "tags": []
          },
          "execution_count": 45
        }
      ]
    },
    {
      "cell_type": "markdown",
      "metadata": {
        "id": "iOHykP6wU66z",
        "colab_type": "text"
      },
      "source": [
        "## Now its time to test, how exact our predictions are.\n",
        "\n",
        "1. Prepare the test data\n",
        "2. Predict labels for test data\n",
        "\n",
        "   Our predictions have 2 values in the tuple (predicted_label, probability). Lets drop the probability since we will not need it\n"
      ]
    },
    {
      "cell_type": "code",
      "metadata": {
        "id": "KiurmUQyRY3Z",
        "colab_type": "code",
        "colab": {
          "base_uri": "https://localhost:8080/",
          "height": 34
        },
        "outputId": "20c846d9-6467-479a-b5b0-c933f6881e3c"
      },
      "source": [
        "ground_truth = testBinary.sentiment.values.tolist()\n",
        "test_dataset = (testBinary.review_body).values.tolist()\n",
        "test_dataset = [x.replace('\\n', ' ') for x in test_dataset]\n",
        "predictions = model.predict(test_dataset)\n",
        "print(predictions[0][0], predictions[1][1])"
      ],
      "execution_count": 46,
      "outputs": [
        {
          "output_type": "stream",
          "text": [
            "['__label__negative'] [0.56501603]\n"
          ],
          "name": "stdout"
        }
      ]
    },
    {
      "cell_type": "code",
      "metadata": {
        "id": "rz-dcs-Tfrep",
        "colab_type": "code",
        "colab": {}
      },
      "source": [
        "predictions = [item[0] for item in predictions[0]]"
      ],
      "execution_count": 0,
      "outputs": []
    },
    {
      "cell_type": "markdown",
      "metadata": {
        "id": "Vm1d64t2W_Ti",
        "colab_type": "text"
      },
      "source": [
        "## How good are we?\n",
        "* Compare the actual labels to the predictions.\n",
        "* Compute accuracy and confusion matrix"
      ]
    },
    {
      "cell_type": "code",
      "metadata": {
        "id": "7te_zAFEffs6",
        "colab_type": "code",
        "outputId": "6e62b368-197a-4b82-c07c-7baa926277b2",
        "colab": {
          "base_uri": "https://localhost:8080/",
          "height": 68
        }
      },
      "source": [
        "from sklearn.metrics import confusion_matrix\n",
        "from sklearn.metrics import accuracy_score\n",
        "\n",
        "matrix = confusion_matrix(ground_truth, predictions)\n",
        "accuracy = accuracy_score(ground_truth, predictions)\n",
        "print(matrix)\n",
        "print(accuracy)"
      ],
      "execution_count": 48,
      "outputs": [
        {
          "output_type": "stream",
          "text": [
            "[[7006 1063]\n",
            " [1045 7079]]\n",
            "0.8698202927190761\n"
          ],
          "name": "stdout"
        }
      ]
    }
  ]
}